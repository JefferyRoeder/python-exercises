{
 "cells": [
  {
   "cell_type": "code",
   "execution_count": 8,
   "metadata": {},
   "outputs": [],
   "source": [
    "import pandas as pd\n",
    "import random\n",
    "import numpy as np"
   ]
  },
  {
   "cell_type": "code",
   "execution_count": 9,
   "metadata": {},
   "outputs": [],
   "source": [
    "numbers = np.arange(1000000)"
   ]
  },
  {
   "cell_type": "code",
   "execution_count": 11,
   "metadata": {},
   "outputs": [],
   "source": [
    "numbers = pd.Series(numbers)"
   ]
  },
  {
   "cell_type": "code",
   "execution_count": 23,
   "metadata": {},
   "outputs": [
    {
     "data": {
      "text/plain": [
       "0                    0\n",
       "1                    1\n",
       "2                    4\n",
       "3                    9\n",
       "4                   16\n",
       "5                   25\n",
       "6                   36\n",
       "7                   49\n",
       "8                   64\n",
       "9                   81\n",
       "10                 100\n",
       "11                 121\n",
       "12                 144\n",
       "13                 169\n",
       "14                 196\n",
       "15                 225\n",
       "16                 256\n",
       "17                 289\n",
       "18                 324\n",
       "19                 361\n",
       "20                 400\n",
       "21                 441\n",
       "22                 484\n",
       "23                 529\n",
       "24                 576\n",
       "25                 625\n",
       "26                 676\n",
       "27                 729\n",
       "28                 784\n",
       "29                 841\n",
       "              ...     \n",
       "999970    999940000900\n",
       "999971    999942000841\n",
       "999972    999944000784\n",
       "999973    999946000729\n",
       "999974    999948000676\n",
       "999975    999950000625\n",
       "999976    999952000576\n",
       "999977    999954000529\n",
       "999978    999956000484\n",
       "999979    999958000441\n",
       "999980    999960000400\n",
       "999981    999962000361\n",
       "999982    999964000324\n",
       "999983    999966000289\n",
       "999984    999968000256\n",
       "999985    999970000225\n",
       "999986    999972000196\n",
       "999987    999974000169\n",
       "999988    999976000144\n",
       "999989    999978000121\n",
       "999990    999980000100\n",
       "999991    999982000081\n",
       "999992    999984000064\n",
       "999993    999986000049\n",
       "999994    999988000036\n",
       "999995    999990000025\n",
       "999996    999992000016\n",
       "999997    999994000009\n",
       "999998    999996000004\n",
       "999999    999998000001\n",
       "Length: 1000000, dtype: int64"
      ]
     },
     "execution_count": 23,
     "metadata": {},
     "output_type": "execute_result"
    }
   ],
   "source": [
    "yay = numbers * numbers\n",
    "yay"
   ]
  },
  {
   "cell_type": "code",
   "execution_count": 12,
   "metadata": {},
   "outputs": [
    {
     "name": "stdout",
     "output_type": "stream",
     "text": [
      "1.22 ms ± 8.74 µs per loop (mean ± std. dev. of 7 runs, 1000 loops each)\n"
     ]
    }
   ],
   "source": [
    "%timeit numbers * numbers"
   ]
  },
  {
   "cell_type": "code",
   "execution_count": 31,
   "metadata": {},
   "outputs": [
    {
     "name": "stdout",
     "output_type": "stream",
     "text": [
      "87.4 ms ± 324 µs per loop (mean ± std. dev. of 7 runs, 10 loops each)\n"
     ]
    }
   ],
   "source": [
    "a = list(range(1,1000000))\n",
    "b = list(range(1,1000000))\n",
    "%timeit [b*a for a,b in zip(a,b)]\n"
   ]
  },
  {
   "cell_type": "code",
   "execution_count": null,
   "metadata": {},
   "outputs": [],
   "source": []
  },
  {
   "cell_type": "code",
   "execution_count": null,
   "metadata": {},
   "outputs": [],
   "source": []
  }
 ],
 "metadata": {
  "kernelspec": {
   "display_name": "Python 3",
   "language": "python",
   "name": "python3"
  },
  "language_info": {
   "codemirror_mode": {
    "name": "ipython",
    "version": 3
   },
   "file_extension": ".py",
   "mimetype": "text/x-python",
   "name": "python",
   "nbconvert_exporter": "python",
   "pygments_lexer": "ipython3",
   "version": "3.7.3"
  }
 },
 "nbformat": 4,
 "nbformat_minor": 2
}
